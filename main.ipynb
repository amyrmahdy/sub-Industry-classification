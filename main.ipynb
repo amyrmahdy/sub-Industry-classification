{
 "cells": [
  {
   "cell_type": "code",
   "execution_count": 265,
   "metadata": {},
   "outputs": [],
   "source": [
    "import numpy as np\n",
    "import pandas as pd\n",
    "import tensorflow as tf\n",
    "from tensorflow.keras.preprocessing.text import Tokenizer\n",
    "from tensorflow.keras.preprocessing.sequence import pad_sequences\n",
    "from tensorflow.keras.models import Sequential\n",
    "from tensorflow.keras.layers import Dense, Embedding, Conv1D, MaxPooling1D, Flatten, Dropout, Input\n",
    "from sklearn.metrics import f1_score\n",
    "from sklearn.model_selection import train_test_split"
   ]
  },
  {
   "attachments": {},
   "cell_type": "markdown",
   "metadata": {},
   "source": [
    "## Dataset"
   ]
  },
  {
   "cell_type": "code",
   "execution_count": 266,
   "metadata": {},
   "outputs": [],
   "source": [
    "train, test = pd.read_csv(\"train.csv\"), pd.read_csv(\"test.csv\")"
   ]
  },
  {
   "attachments": {},
   "cell_type": "markdown",
   "metadata": {},
   "source": [
    "## EDA"
   ]
  },
  {
   "cell_type": "code",
   "execution_count": 267,
   "metadata": {},
   "outputs": [
    {
     "data": {
      "text/html": [
       "<div>\n",
       "<style scoped>\n",
       "    .dataframe tbody tr th:only-of-type {\n",
       "        vertical-align: middle;\n",
       "    }\n",
       "\n",
       "    .dataframe tbody tr th {\n",
       "        vertical-align: top;\n",
       "    }\n",
       "\n",
       "    .dataframe thead th {\n",
       "        text-align: right;\n",
       "    }\n",
       "</style>\n",
       "<table border=\"1\" class=\"dataframe\">\n",
       "  <thead>\n",
       "    <tr style=\"text-align: right;\">\n",
       "      <th></th>\n",
       "      <th>Ticker</th>\n",
       "      <th>Company Name</th>\n",
       "      <th>Sector</th>\n",
       "      <th>Industry Group</th>\n",
       "      <th>Industry</th>\n",
       "      <th>Description</th>\n",
       "      <th>Sub-Industry</th>\n",
       "    </tr>\n",
       "  </thead>\n",
       "  <tbody>\n",
       "    <tr>\n",
       "      <th>0</th>\n",
       "      <td>STAF</td>\n",
       "      <td>STAFFING 360 SOLUTIONS INC</td>\n",
       "      <td>Industrials</td>\n",
       "      <td>Commercial  &amp; Professional Services</td>\n",
       "      <td>Professional Services</td>\n",
       "      <td>Staffing 360 Solutions, Inc. is an internation...</td>\n",
       "      <td>Human Resource &amp; Employment Services</td>\n",
       "    </tr>\n",
       "    <tr>\n",
       "      <th>1</th>\n",
       "      <td>NXTC</td>\n",
       "      <td>NEXTCURE INC</td>\n",
       "      <td>Health Care</td>\n",
       "      <td>Pharmaceuticals, Biotechnology &amp; Life Sciences</td>\n",
       "      <td>Biotechnology</td>\n",
       "      <td>NextCure, Inc. is a clinical-stage biopharmace...</td>\n",
       "      <td>Biotechnology</td>\n",
       "    </tr>\n",
       "    <tr>\n",
       "      <th>2</th>\n",
       "      <td>CVBF</td>\n",
       "      <td>CVB FINANCIAL CORP</td>\n",
       "      <td>Financials</td>\n",
       "      <td>Banks</td>\n",
       "      <td>Banks</td>\n",
       "      <td>CVB Financial Corp. is a bank holding company ...</td>\n",
       "      <td>Regional Banks</td>\n",
       "    </tr>\n",
       "    <tr>\n",
       "      <th>3</th>\n",
       "      <td>ARCT</td>\n",
       "      <td>ARCTURUS THERAPETCS HOLD INC</td>\n",
       "      <td>Health Care</td>\n",
       "      <td>Pharmaceuticals, Biotechnology &amp; Life Sciences</td>\n",
       "      <td>Biotechnology</td>\n",
       "      <td>Arcturus Therapeutics Holdings Inc. is a late-...</td>\n",
       "      <td>Biotechnology</td>\n",
       "    </tr>\n",
       "    <tr>\n",
       "      <th>4</th>\n",
       "      <td>SMPL</td>\n",
       "      <td>SIMPLY GOOD FOODS COMPANY</td>\n",
       "      <td>Consumer Staples</td>\n",
       "      <td>Food, Beverage &amp; Tobacco</td>\n",
       "      <td>Food Products</td>\n",
       "      <td>Simply Good Foods Co is a developer, marketer ...</td>\n",
       "      <td>Packaged Foods &amp; Meats</td>\n",
       "    </tr>\n",
       "  </tbody>\n",
       "</table>\n",
       "</div>"
      ],
      "text/plain": [
       "  Ticker                  Company Name            Sector  \\\n",
       "0   STAF    STAFFING 360 SOLUTIONS INC       Industrials   \n",
       "1   NXTC                  NEXTCURE INC       Health Care   \n",
       "2   CVBF            CVB FINANCIAL CORP        Financials   \n",
       "3   ARCT  ARCTURUS THERAPETCS HOLD INC       Health Care   \n",
       "4   SMPL     SIMPLY GOOD FOODS COMPANY  Consumer Staples   \n",
       "\n",
       "                                   Industry Group               Industry  \\\n",
       "0             Commercial  & Professional Services  Professional Services   \n",
       "1  Pharmaceuticals, Biotechnology & Life Sciences          Biotechnology   \n",
       "2                                           Banks                  Banks   \n",
       "3  Pharmaceuticals, Biotechnology & Life Sciences          Biotechnology   \n",
       "4                        Food, Beverage & Tobacco          Food Products   \n",
       "\n",
       "                                         Description  \\\n",
       "0  Staffing 360 Solutions, Inc. is an internation...   \n",
       "1  NextCure, Inc. is a clinical-stage biopharmace...   \n",
       "2  CVB Financial Corp. is a bank holding company ...   \n",
       "3  Arcturus Therapeutics Holdings Inc. is a late-...   \n",
       "4  Simply Good Foods Co is a developer, marketer ...   \n",
       "\n",
       "                           Sub-Industry  \n",
       "0  Human Resource & Employment Services  \n",
       "1                         Biotechnology  \n",
       "2                        Regional Banks  \n",
       "3                         Biotechnology  \n",
       "4                Packaged Foods & Meats  "
      ]
     },
     "execution_count": 267,
     "metadata": {},
     "output_type": "execute_result"
    }
   ],
   "source": [
    "train.head()"
   ]
  },
  {
   "cell_type": "code",
   "execution_count": 268,
   "metadata": {},
   "outputs": [
    {
     "data": {
      "text/html": [
       "<div>\n",
       "<style scoped>\n",
       "    .dataframe tbody tr th:only-of-type {\n",
       "        vertical-align: middle;\n",
       "    }\n",
       "\n",
       "    .dataframe tbody tr th {\n",
       "        vertical-align: top;\n",
       "    }\n",
       "\n",
       "    .dataframe thead th {\n",
       "        text-align: right;\n",
       "    }\n",
       "</style>\n",
       "<table border=\"1\" class=\"dataframe\">\n",
       "  <thead>\n",
       "    <tr style=\"text-align: right;\">\n",
       "      <th></th>\n",
       "      <th>Ticker</th>\n",
       "      <th>Company Name</th>\n",
       "      <th>Sector</th>\n",
       "      <th>Industry Group</th>\n",
       "      <th>Industry</th>\n",
       "      <th>Description</th>\n",
       "    </tr>\n",
       "  </thead>\n",
       "  <tbody>\n",
       "    <tr>\n",
       "      <th>0</th>\n",
       "      <td>PLPC</td>\n",
       "      <td>PREFORMED LINE PRODUCTS CO</td>\n",
       "      <td>Industrials</td>\n",
       "      <td>Capital Goods</td>\n",
       "      <td>Electrical Equipment</td>\n",
       "      <td>Preformed Line Products Company, together with...</td>\n",
       "    </tr>\n",
       "    <tr>\n",
       "      <th>1</th>\n",
       "      <td>VAPO</td>\n",
       "      <td>VAPOTHERM INC</td>\n",
       "      <td>Health Care</td>\n",
       "      <td>Health Care Equipment &amp; Services</td>\n",
       "      <td>Health Care Equipment &amp; Supplies</td>\n",
       "      <td>Vapotherm, Inc. is a global medical technology...</td>\n",
       "    </tr>\n",
       "    <tr>\n",
       "      <th>2</th>\n",
       "      <td>SIX</td>\n",
       "      <td>SIX FLAGS ENTERTAINMENT CORP</td>\n",
       "      <td>Consumer Discretionary</td>\n",
       "      <td>Consumer Services</td>\n",
       "      <td>Hotels, Restaurants &amp; Leisure</td>\n",
       "      <td>Six Flags Entertainment Corporation is a regio...</td>\n",
       "    </tr>\n",
       "    <tr>\n",
       "      <th>3</th>\n",
       "      <td>LODE</td>\n",
       "      <td>COMSTOCK MINING INC</td>\n",
       "      <td>Materials</td>\n",
       "      <td>Materials</td>\n",
       "      <td>Metals &amp; Mining</td>\n",
       "      <td>Comstock Inc., formerly Comstock Mining Inc., ...</td>\n",
       "    </tr>\n",
       "    <tr>\n",
       "      <th>4</th>\n",
       "      <td>MAXR</td>\n",
       "      <td>MAXAR TECHNOLOGIES INC</td>\n",
       "      <td>Industrials</td>\n",
       "      <td>Capital Goods</td>\n",
       "      <td>Aerospace &amp; Defense</td>\n",
       "      <td>Maxar Technologies, Inc. is a space technology...</td>\n",
       "    </tr>\n",
       "  </tbody>\n",
       "</table>\n",
       "</div>"
      ],
      "text/plain": [
       "  Ticker                  Company Name                  Sector  \\\n",
       "0   PLPC    PREFORMED LINE PRODUCTS CO             Industrials   \n",
       "1   VAPO                 VAPOTHERM INC             Health Care   \n",
       "2    SIX  SIX FLAGS ENTERTAINMENT CORP  Consumer Discretionary   \n",
       "3   LODE           COMSTOCK MINING INC               Materials   \n",
       "4   MAXR        MAXAR TECHNOLOGIES INC             Industrials   \n",
       "\n",
       "                     Industry Group                          Industry  \\\n",
       "0                     Capital Goods              Electrical Equipment   \n",
       "1  Health Care Equipment & Services  Health Care Equipment & Supplies   \n",
       "2                 Consumer Services     Hotels, Restaurants & Leisure   \n",
       "3                         Materials                   Metals & Mining   \n",
       "4                     Capital Goods               Aerospace & Defense   \n",
       "\n",
       "                                         Description  \n",
       "0  Preformed Line Products Company, together with...  \n",
       "1  Vapotherm, Inc. is a global medical technology...  \n",
       "2  Six Flags Entertainment Corporation is a regio...  \n",
       "3  Comstock Inc., formerly Comstock Mining Inc., ...  \n",
       "4  Maxar Technologies, Inc. is a space technology...  "
      ]
     },
     "execution_count": 268,
     "metadata": {},
     "output_type": "execute_result"
    }
   ],
   "source": [
    "test.head()"
   ]
  },
  {
   "attachments": {},
   "cell_type": "markdown",
   "metadata": {},
   "source": [
    "### How many class exists?"
   ]
  },
  {
   "cell_type": "code",
   "execution_count": 269,
   "metadata": {},
   "outputs": [
    {
     "data": {
      "text/plain": [
       "155"
      ]
     },
     "execution_count": 269,
     "metadata": {},
     "output_type": "execute_result"
    }
   ],
   "source": [
    "number_of_classes = train[\"Sub-Industry\"].unique().shape[0]\n",
    "# 155\n",
    "number_of_classes"
   ]
  },
  {
   "attachments": {},
   "cell_type": "markdown",
   "metadata": {},
   "source": [
    "### Check intersection for some columns"
   ]
  },
  {
   "cell_type": "code",
   "execution_count": 270,
   "metadata": {},
   "outputs": [
    {
     "data": {
      "text/plain": [
       "set()"
      ]
     },
     "execution_count": 270,
     "metadata": {},
     "output_type": "execute_result"
    }
   ],
   "source": [
    "# Ticker\n",
    "set(train.Ticker.unique().tolist()).intersection(set(test.Ticker.unique().tolist()))\n",
    "# So this column is useless"
   ]
  },
  {
   "cell_type": "code",
   "execution_count": 271,
   "metadata": {},
   "outputs": [
    {
     "data": {
      "text/plain": [
       "{'&',\n",
       " '(THE)',\n",
       " '-CL',\n",
       " '-LP',\n",
       " 'A',\n",
       " 'ACADIA',\n",
       " 'ACCEPTANCE',\n",
       " 'ACQ',\n",
       " 'ADVANCED',\n",
       " 'AGRICULTURE',\n",
       " 'AIR',\n",
       " 'AIRLINES',\n",
       " 'ALLIED',\n",
       " 'AMC',\n",
       " 'AMERICA',\n",
       " 'AMERICAN',\n",
       " 'APPAREL',\n",
       " 'APPLE',\n",
       " 'APPLIED',\n",
       " 'ASPEN',\n",
       " 'ASSET',\n",
       " 'ASSOCIATED',\n",
       " 'AUTO',\n",
       " 'AUTOMOTIVE',\n",
       " 'AVID',\n",
       " 'BANCORP',\n",
       " 'BANCSHARES',\n",
       " 'BANK',\n",
       " 'BANKING',\n",
       " 'BANKSHARES',\n",
       " 'BASIN',\n",
       " 'BDC',\n",
       " 'BEAUTY',\n",
       " 'BIG',\n",
       " 'BIO',\n",
       " 'BIOLOGICS',\n",
       " 'BIOPHARMA',\n",
       " 'BIOSCIENCE',\n",
       " 'BIOSCIENCES',\n",
       " 'BIOTECH',\n",
       " 'BIOTECHNOLOGY',\n",
       " 'BK',\n",
       " 'BLACK',\n",
       " 'BOX',\n",
       " 'BRANDS',\n",
       " 'BROADCAST',\n",
       " 'BROTHERS',\n",
       " 'BROWN',\n",
       " 'CABLE',\n",
       " 'CALIFORNIA',\n",
       " 'CAP',\n",
       " 'CAPITAL',\n",
       " 'CARE',\n",
       " 'CATALYST',\n",
       " 'CELL',\n",
       " 'CENTERS',\n",
       " 'CENTRAL',\n",
       " 'CENTURY',\n",
       " 'CHEMICAL',\n",
       " 'CHENIERE',\n",
       " 'CHINA',\n",
       " 'CINCINNATI',\n",
       " 'CITY',\n",
       " 'CLEAN',\n",
       " 'CMNTY',\n",
       " 'CO',\n",
       " 'CO/DE',\n",
       " 'COMMERCE',\n",
       " 'COMMERCIAL',\n",
       " 'COMMUNICATIONS',\n",
       " 'COMMUNITY',\n",
       " 'COMPANY',\n",
       " 'COMPASS',\n",
       " 'COMSTOCK',\n",
       " 'CONCEPT',\n",
       " 'CONSOLIDATED',\n",
       " 'CONSTRUCTION',\n",
       " 'CORP',\n",
       " 'CORP/DE',\n",
       " 'CORP/FL',\n",
       " 'COS',\n",
       " 'CP',\n",
       " 'CTI',\n",
       " 'CVR',\n",
       " 'DATA',\n",
       " 'DELTA',\n",
       " 'DEVICES',\n",
       " 'DIAGNOSTICS',\n",
       " 'DIGITAL',\n",
       " 'DIRECT',\n",
       " 'DOMINION',\n",
       " 'EAGLE',\n",
       " 'EASTMAN',\n",
       " 'EDISON',\n",
       " 'EDUCATION',\n",
       " 'ELECTRIC',\n",
       " 'ELECTRONICS',\n",
       " 'ENERGY',\n",
       " 'ENG',\n",
       " 'ENRGY',\n",
       " 'ENTERPRISE',\n",
       " 'ENTERPRISES',\n",
       " 'ENTERTAINMENT',\n",
       " 'ENTMT',\n",
       " 'EQUITY',\n",
       " 'ESTATE',\n",
       " 'EXPRESS',\n",
       " 'F',\n",
       " 'FACTORY',\n",
       " 'FARMERS',\n",
       " 'FEDERAL',\n",
       " 'FIDELITY',\n",
       " 'FIN',\n",
       " 'FINANCE',\n",
       " 'FINANCIAL',\n",
       " 'FINL',\n",
       " 'FIRST',\n",
       " 'FIVE',\n",
       " 'FOCUS',\n",
       " 'FOODS',\n",
       " 'FORTRESS',\n",
       " 'FORWARD',\n",
       " 'FOX',\n",
       " 'FRANKLIN',\n",
       " 'FREQUENCY',\n",
       " 'FS',\n",
       " 'FURNITURE',\n",
       " 'GAMING',\n",
       " 'GAS',\n",
       " 'GENERAL',\n",
       " 'GENETICS',\n",
       " 'GLADSTONE',\n",
       " 'GLOBAL',\n",
       " 'GOLD',\n",
       " 'GOLDMAN',\n",
       " 'GP',\n",
       " 'GREAT',\n",
       " 'GREEN',\n",
       " 'GROUP',\n",
       " 'GROWTH',\n",
       " 'GRP',\n",
       " 'H',\n",
       " 'HARBORS',\n",
       " 'HAWAIIAN',\n",
       " 'HEALTH',\n",
       " 'HEALTHCARE',\n",
       " 'HILL',\n",
       " 'HILLS',\n",
       " 'HILTON',\n",
       " 'HLDG',\n",
       " 'HLDGS',\n",
       " 'HLDNG',\n",
       " 'HOLDING',\n",
       " 'HOLDINGS',\n",
       " 'HOLDNG',\n",
       " 'HOME',\n",
       " 'HOMES',\n",
       " 'HOSPITALITY',\n",
       " 'HOTEL',\n",
       " 'HOTELS',\n",
       " 'HUDSON',\n",
       " 'HUGHES',\n",
       " 'IN',\n",
       " 'INC',\n",
       " 'INDEPENDENT',\n",
       " 'INDS',\n",
       " 'INDUSTRIAL',\n",
       " 'INDUSTRIES',\n",
       " 'INFORMATION',\n",
       " 'INGREDIENTS',\n",
       " 'INNOVATIVE',\n",
       " 'INSURANCE',\n",
       " 'INTERACTIVE',\n",
       " 'INTERNATIONAL',\n",
       " 'INTL',\n",
       " 'INVESTMENT',\n",
       " 'INVESTORS',\n",
       " 'INVS',\n",
       " 'INVST',\n",
       " 'ISLAND',\n",
       " 'J',\n",
       " 'JERSEY',\n",
       " 'KKR',\n",
       " 'KURA',\n",
       " 'LABORATORIES',\n",
       " 'LABS',\n",
       " 'LAND',\n",
       " 'LEASE',\n",
       " 'LIBERTY',\n",
       " 'LIFE',\n",
       " 'LIFESTYLE',\n",
       " 'LINCOLN',\n",
       " 'LINE',\n",
       " 'LIVE',\n",
       " 'LLC',\n",
       " 'LODGING',\n",
       " 'LOGISTICS',\n",
       " 'LP',\n",
       " 'LTD',\n",
       " 'MANAGEMENT',\n",
       " 'MANUFACTURING',\n",
       " 'MARATHON',\n",
       " 'MARINE',\n",
       " 'MARKET',\n",
       " 'MARKETS',\n",
       " 'MATERIALS',\n",
       " 'MEDIA',\n",
       " 'MEDICAL',\n",
       " 'MERCHANTS',\n",
       " 'METALS',\n",
       " 'MFG',\n",
       " 'MGMT',\n",
       " 'MID',\n",
       " 'MIDSTREAM',\n",
       " 'MIDSTRM',\n",
       " 'MINERALS',\n",
       " 'MINI',\n",
       " 'MINING',\n",
       " 'MOBILE',\n",
       " 'MORTGAGE',\n",
       " 'MOTION',\n",
       " 'MOTOR',\n",
       " 'MOTORS',\n",
       " 'MOUNTAIN',\n",
       " 'MUELLER',\n",
       " 'NATIONAL',\n",
       " 'NATL',\n",
       " 'NATURAL',\n",
       " 'NETWORK',\n",
       " 'NETWORKS',\n",
       " 'NEW',\n",
       " 'NORTHERN',\n",
       " 'NORTHWEST',\n",
       " 'OAK',\n",
       " 'OF',\n",
       " 'OHIO',\n",
       " 'OIL',\n",
       " 'OILFIELD',\n",
       " 'OLD',\n",
       " 'ONCOLOGY',\n",
       " 'ONE',\n",
       " 'OUTDOOR',\n",
       " 'OUTLET',\n",
       " 'P',\n",
       " 'PACIFIC',\n",
       " 'PACKAGING',\n",
       " 'PAPER',\n",
       " 'PAR',\n",
       " 'PARK',\n",
       " 'PARTNERS',\n",
       " 'PARTNRS',\n",
       " 'PARTS',\n",
       " 'PATRIOT',\n",
       " 'PAYMENTS',\n",
       " 'PBF',\n",
       " 'PETROLEUM',\n",
       " 'PHARMA',\n",
       " 'PHARMACEUTICALS',\n",
       " 'PHARMACEUTICLS',\n",
       " 'PLACE',\n",
       " 'PLANET',\n",
       " 'PLUS',\n",
       " 'POINT',\n",
       " 'POWER',\n",
       " 'PPTYS',\n",
       " 'PRODS',\n",
       " 'PRODUCTS',\n",
       " 'PROPERTIES',\n",
       " 'PROPERTY',\n",
       " 'PROVIDENT',\n",
       " 'PRTNRS',\n",
       " 'PTC',\n",
       " 'PUBLIC',\n",
       " 'PURE',\n",
       " 'R',\n",
       " 'RAND',\n",
       " 'REAL',\n",
       " 'REALTY',\n",
       " 'RED',\n",
       " 'REIT',\n",
       " 'REPUBLIC',\n",
       " 'RESEARCH',\n",
       " 'RESIDENTIAL',\n",
       " 'RESORTS',\n",
       " 'RESOURCE',\n",
       " 'RESOURCES',\n",
       " 'RESTAURANTS',\n",
       " 'RETAIL',\n",
       " 'RIDGE',\n",
       " 'ROCKY',\n",
       " 'ROYALTY',\n",
       " 'S',\n",
       " 'SACHS',\n",
       " 'SCIENCES',\n",
       " 'SCIENTIFIC',\n",
       " 'SECURITY',\n",
       " 'SERVICE',\n",
       " 'SERVICES',\n",
       " 'SOFTWARE',\n",
       " 'SOLUTIONS',\n",
       " 'SOUP',\n",
       " 'SOUTHERN',\n",
       " 'SOUTHWEST',\n",
       " 'SPECIALTY',\n",
       " 'SQUARE',\n",
       " 'STAFFING',\n",
       " 'STATE',\n",
       " 'STEEL',\n",
       " 'STORAGE',\n",
       " 'STORE',\n",
       " 'STREET',\n",
       " 'SUMMIT',\n",
       " 'SUPERIOR',\n",
       " 'SVCS',\n",
       " 'SYS',\n",
       " 'SYSTEM',\n",
       " 'SYSTEMS',\n",
       " 'T',\n",
       " 'TARGET',\n",
       " 'TD',\n",
       " 'TECH',\n",
       " 'TECHNOLOGIES',\n",
       " 'TECHNOLOGY',\n",
       " 'THE',\n",
       " 'THERAPEUTICS',\n",
       " 'THRPUTCS',\n",
       " 'TITAN',\n",
       " 'TR',\n",
       " 'TRANSPORTATION',\n",
       " 'TRIPADVISOR',\n",
       " 'TRUST',\n",
       " 'UNITED',\n",
       " 'UNIVERSAL',\n",
       " 'URBAN',\n",
       " 'US',\n",
       " 'USA',\n",
       " 'UTILITIES',\n",
       " 'VERTEX',\n",
       " 'WASHINGTON',\n",
       " 'WASTE',\n",
       " 'WATER',\n",
       " 'WEST',\n",
       " 'WESTERN',\n",
       " 'WESTLAKE',\n",
       " 'WORKS',\n",
       " 'WORLD',\n",
       " 'WORLDWIDE',\n",
       " 'XCEL',\n",
       " 'YORK'}"
      ]
     },
     "execution_count": 271,
     "metadata": {},
     "output_type": "execute_result"
    }
   ],
   "source": [
    "# Company Name\n",
    "\n",
    "company_names_train = set()\n",
    "company_names_train_list = [name.split() for name in  train[\"Company Name\"].unique().tolist()]\n",
    "for sublist in company_names_train_list:\n",
    "    for word in sublist:\n",
    "        company_names_train.add(word)\n",
    "\n",
    "company_names_test = set()\n",
    "company_names_test_list = [name.split() for name in  test[\"Company Name\"].unique().tolist()]\n",
    "for sublist in company_names_test_list:\n",
    "    for word in sublist:\n",
    "        company_names_test.add(word)\n",
    "\n",
    "company_names_train.intersection(company_names_test)"
   ]
  },
  {
   "cell_type": "code",
   "execution_count": 272,
   "metadata": {},
   "outputs": [
    {
     "data": {
      "text/plain": [
       "{'Communication Services',\n",
       " 'Consumer Discretionary',\n",
       " 'Consumer Staples',\n",
       " 'Energy',\n",
       " 'Financials',\n",
       " 'Health Care',\n",
       " 'Industrials',\n",
       " 'Information Technology',\n",
       " 'Materials',\n",
       " 'Real Estate',\n",
       " 'Utilities'}"
      ]
     },
     "execution_count": 272,
     "metadata": {},
     "output_type": "execute_result"
    }
   ],
   "source": [
    "# Sector\n",
    "set(train[\"Sector\"].unique().tolist()).intersection(set(test[\"Sector\"].unique().tolist()))"
   ]
  },
  {
   "cell_type": "code",
   "execution_count": 273,
   "metadata": {},
   "outputs": [
    {
     "data": {
      "text/plain": [
       "{'Automobiles & Components',\n",
       " 'Banks',\n",
       " 'Capital Goods',\n",
       " 'Commercial  & Professional Services',\n",
       " 'Consumer Durables & Apparel',\n",
       " 'Consumer Services',\n",
       " 'Diversified Financials',\n",
       " 'Energy',\n",
       " 'Food & Staples Retailing',\n",
       " 'Food, Beverage & Tobacco',\n",
       " 'Health Care Equipment & Services',\n",
       " 'Household & Personal Products',\n",
       " 'Insurance',\n",
       " 'Materials',\n",
       " 'Media & Entertainment',\n",
       " 'Pharmaceuticals, Biotechnology & Life Sciences',\n",
       " 'Real Estate',\n",
       " 'Retailing',\n",
       " 'Semiconductors & Semiconductor Equipment',\n",
       " 'Software & Services',\n",
       " 'Technology Hardware & Equipment',\n",
       " 'Telecommunication Services',\n",
       " 'Transportation',\n",
       " 'Utilities'}"
      ]
     },
     "execution_count": 273,
     "metadata": {},
     "output_type": "execute_result"
    }
   ],
   "source": [
    "# Industry Group\n",
    "set(train[\"Industry Group\"].unique().tolist()).intersection(set(test[\"Industry Group\"].unique().tolist()))"
   ]
  },
  {
   "cell_type": "code",
   "execution_count": 274,
   "metadata": {},
   "outputs": [
    {
     "data": {
      "text/plain": [
       "{'Aerospace & Defense',\n",
       " 'Air Freight & Logistics',\n",
       " 'Airlines',\n",
       " 'Auto Components',\n",
       " 'Automobiles',\n",
       " 'Banks',\n",
       " 'Beverages',\n",
       " 'Biotechnology',\n",
       " 'Building Products',\n",
       " 'Capital Markets',\n",
       " 'Chemicals',\n",
       " 'Commercial Services & Supplies',\n",
       " 'Communications Equipment',\n",
       " 'Construction & Engineering',\n",
       " 'Construction Materials',\n",
       " 'Consumer Finance',\n",
       " 'Containers & Packaging',\n",
       " 'Distributors',\n",
       " 'Diversified Consumer Services',\n",
       " 'Diversified Financial Services',\n",
       " 'Diversified Telecommunication Services',\n",
       " 'Electric Utilities',\n",
       " 'Electrical Equipment',\n",
       " 'Electronic Equipment, Instruments & Components',\n",
       " 'Energy Equipment & Services',\n",
       " 'Entertainment',\n",
       " 'Equity Real Estate \\nInvestment Trusts \\n(REITs)',\n",
       " 'Food & Staples Retailing',\n",
       " 'Food Products',\n",
       " 'Gas Utilities',\n",
       " 'Health Care Equipment & Supplies',\n",
       " 'Health Care Providers & Services',\n",
       " 'Health Care Technology',\n",
       " 'Hotels, Restaurants & Leisure',\n",
       " 'Household Durables',\n",
       " 'Household Products',\n",
       " 'IT Services',\n",
       " 'Independent Power and Renewable Electricity Producers',\n",
       " 'Industrial Conglomerates',\n",
       " 'Insurance',\n",
       " 'Interactive Media & Services',\n",
       " 'Internet & Direct Marketing Retail',\n",
       " 'Leisure Products',\n",
       " 'Life Sciences Tools & Services',\n",
       " 'Machinery',\n",
       " 'Marine',\n",
       " 'Media',\n",
       " 'Metals & Mining',\n",
       " 'Mortgage Real Estate Investment \\nTrusts (REITs)',\n",
       " 'Multi-Utilities',\n",
       " 'Multiline Retail',\n",
       " 'Oil, Gas & Consumable Fuels',\n",
       " 'Paper & Forest Products',\n",
       " 'Personal Products',\n",
       " 'Pharmaceuticals',\n",
       " 'Professional Services',\n",
       " 'Real Estate Management & Development',\n",
       " 'Road & Rail',\n",
       " 'Semiconductors & Semiconductor Equipment',\n",
       " 'Software',\n",
       " 'Specialty Retail',\n",
       " 'Technology Hardware, Storage & Peripherals',\n",
       " 'Textiles, Apparel & Luxury Goods',\n",
       " 'Thrifts & Mortgage Finance',\n",
       " 'Tobacco',\n",
       " 'Trading Companies & Distributors',\n",
       " 'Water Utilities',\n",
       " 'Wireless Telecommunication Services'}"
      ]
     },
     "execution_count": 274,
     "metadata": {},
     "output_type": "execute_result"
    }
   ],
   "source": [
    "# Industry\n",
    "set(train[\"Industry\"].unique().tolist()).intersection(set(test[\"Industry\"].unique().tolist()))"
   ]
  },
  {
   "attachments": {},
   "cell_type": "markdown",
   "metadata": {},
   "source": [
    "## Cleaning"
   ]
  },
  {
   "attachments": {},
   "cell_type": "markdown",
   "metadata": {},
   "source": [
    "### Sub-Industry"
   ]
  },
  {
   "cell_type": "code",
   "execution_count": 275,
   "metadata": {},
   "outputs": [],
   "source": [
    "sub_industry_unique = train[\"Sub-Industry\"].unique().tolist()"
   ]
  },
  {
   "cell_type": "code",
   "execution_count": 276,
   "metadata": {},
   "outputs": [],
   "source": [
    "numbers_to_string =  { key : value for key,value in enumerate(sub_industry_unique)}\n",
    "strings_to_number = { key : value for value, key in enumerate(sub_industry_unique)}"
   ]
  },
  {
   "cell_type": "code",
   "execution_count": 277,
   "metadata": {},
   "outputs": [],
   "source": [
    "y_train = train[\"Sub-Industry\"].apply(lambda x : strings_to_number[x])"
   ]
  },
  {
   "attachments": {},
   "cell_type": "markdown",
   "metadata": {},
   "source": [
    "### Select columns to join"
   ]
  },
  {
   "cell_type": "code",
   "execution_count": 278,
   "metadata": {},
   "outputs": [],
   "source": [
    "\n",
    "columns_train = list(train.columns)\n",
    "columns_train.remove(\"Sub-Industry\")\n",
    "columns_train.remove(\"Ticker\")"
   ]
  },
  {
   "attachments": {},
   "cell_type": "markdown",
   "metadata": {},
   "source": [
    "### Create X_train, X_test"
   ]
  },
  {
   "cell_type": "code",
   "execution_count": 279,
   "metadata": {},
   "outputs": [],
   "source": [
    "X_train_v1 = train[columns_train].apply(lambda x : ' '.join(x.values), axis = 1)"
   ]
  },
  {
   "cell_type": "code",
   "execution_count": 280,
   "metadata": {},
   "outputs": [],
   "source": [
    "X_test_v1 = test[columns_train].apply(lambda x : ' '.join(x.values), axis = 1)"
   ]
  },
  {
   "attachments": {},
   "cell_type": "markdown",
   "metadata": {},
   "source": [
    "### Tokenization"
   ]
  },
  {
   "cell_type": "code",
   "execution_count": 281,
   "metadata": {},
   "outputs": [],
   "source": [
    "NUM_WORDS = 20477\n",
    "tokenizer = Tokenizer(num_words = NUM_WORDS, oov_token = \"OOV\")\n",
    "tokenizer.fit_on_texts(X_train_v1)\n",
    "# tokenizer.fit_on_texts(X_test_v1)\n",
    "X_train_v2 = tokenizer.texts_to_sequences(X_train_v1)\n",
    "X_test_v2 = tokenizer.texts_to_sequences(X_test_v1)"
   ]
  },
  {
   "cell_type": "code",
   "execution_count": 282,
   "metadata": {},
   "outputs": [
    {
     "data": {
      "text/plain": [
       "20477"
      ]
     },
     "execution_count": 282,
     "metadata": {},
     "output_type": "execute_result"
    }
   ],
   "source": [
    "len(list(tokenizer.word_index))"
   ]
  },
  {
   "attachments": {},
   "cell_type": "markdown",
   "metadata": {},
   "source": [
    "### Padding"
   ]
  },
  {
   "attachments": {},
   "cell_type": "markdown",
   "metadata": {},
   "source": [
    "Find Maximum length for padding"
   ]
  },
  {
   "cell_type": "code",
   "execution_count": 283,
   "metadata": {},
   "outputs": [],
   "source": [
    "len_seqs= [len(row) for row in X_train_v2]"
   ]
  },
  {
   "cell_type": "code",
   "execution_count": 284,
   "metadata": {},
   "outputs": [
    {
     "data": {
      "text/plain": [
       "232"
      ]
     },
     "execution_count": 284,
     "metadata": {},
     "output_type": "execute_result"
    }
   ],
   "source": [
    "max(len_seqs)"
   ]
  },
  {
   "cell_type": "code",
   "execution_count": 285,
   "metadata": {},
   "outputs": [],
   "source": [
    "MAX_LENGTH = 223\n",
    "# X_train final\n",
    "X_train = pad_sequences(X_train_v2, padding = \"post\", truncating = \"post\", maxlen= MAX_LENGTH)\n",
    "# X_test final\n",
    "X_test = pad_sequences(X_test_v2, padding = \"post\", truncating = \"post\", maxlen= MAX_LENGTH)"
   ]
  },
  {
   "attachments": {},
   "cell_type": "markdown",
   "metadata": {},
   "source": [
    "## Model"
   ]
  },
  {
   "attachments": {},
   "cell_type": "markdown",
   "metadata": {},
   "source": [
    "### Simple Neural Network"
   ]
  },
  {
   "cell_type": "code",
   "execution_count": 290,
   "metadata": {},
   "outputs": [],
   "source": [
    "SNN_EPOCHS = 200"
   ]
  },
  {
   "cell_type": "code",
   "execution_count": 293,
   "metadata": {},
   "outputs": [],
   "source": [
    "def build_snn_model():\n",
    "    model = Sequential()\n",
    "    model.add(Dense(20,input_dim = X_train.shape[1]))\n",
    "    model.add(Dense(32, activation = 'relu'))\n",
    "    model.add(Dense(16, activation = 'relu'))\n",
    "    model.add(Dense(number_of_classes, activation = \"softmax\"))\n",
    "    model.compile(loss = \"sparse_categorical_crossentropy\", optimizer = \"adam\", metrics = [\"accuracy\"])\n",
    "    return model"
   ]
  },
  {
   "cell_type": "code",
   "execution_count": 294,
   "metadata": {},
   "outputs": [
    {
     "name": "stdout",
     "output_type": "stream",
     "text": [
      "Epoch 1/200\n",
      "69/69 [==============================] - 1s 2ms/step - loss: 396.7782 - accuracy: 0.0468\n",
      "Epoch 2/200\n",
      "69/69 [==============================] - 0s 2ms/step - loss: 10.7128 - accuracy: 0.0918\n",
      "Epoch 3/200\n",
      "69/69 [==============================] - 0s 3ms/step - loss: 6.8660 - accuracy: 0.0964\n",
      "Epoch 4/200\n",
      "69/69 [==============================] - 0s 3ms/step - loss: 6.0328 - accuracy: 0.0791\n",
      "Epoch 5/200\n",
      "69/69 [==============================] - 0s 5ms/step - loss: 5.5595 - accuracy: 0.0927\n",
      "Epoch 6/200\n",
      "69/69 [==============================] - 0s 3ms/step - loss: 5.2993 - accuracy: 0.0968\n",
      "Epoch 7/200\n",
      "69/69 [==============================] - 0s 3ms/step - loss: 5.0820 - accuracy: 0.0973\n",
      "Epoch 8/200\n",
      "69/69 [==============================] - 0s 2ms/step - loss: 4.9397 - accuracy: 0.0968\n",
      "Epoch 9/200\n",
      "69/69 [==============================] - 0s 3ms/step - loss: 4.8815 - accuracy: 0.0973\n",
      "Epoch 10/200\n",
      "69/69 [==============================] - 0s 3ms/step - loss: 4.8288 - accuracy: 0.0977\n",
      "Epoch 11/200\n",
      "69/69 [==============================] - 0s 3ms/step - loss: 4.7923 - accuracy: 0.0977\n",
      "Epoch 12/200\n",
      "69/69 [==============================] - 0s 2ms/step - loss: 4.7660 - accuracy: 0.0982\n",
      "Epoch 13/200\n",
      "69/69 [==============================] - 0s 3ms/step - loss: 4.7405 - accuracy: 0.0982\n",
      "Epoch 14/200\n",
      "69/69 [==============================] - 0s 3ms/step - loss: 4.7175 - accuracy: 0.0982\n",
      "Epoch 15/200\n",
      "69/69 [==============================] - 0s 3ms/step - loss: 4.6957 - accuracy: 0.0982\n",
      "Epoch 16/200\n",
      "69/69 [==============================] - 0s 3ms/step - loss: 4.6750 - accuracy: 0.0986\n",
      "Epoch 17/200\n",
      "69/69 [==============================] - 0s 2ms/step - loss: 4.6554 - accuracy: 0.0986\n",
      "Epoch 18/200\n",
      "69/69 [==============================] - 0s 3ms/step - loss: 4.6397 - accuracy: 0.0986\n",
      "Epoch 19/200\n",
      "69/69 [==============================] - 0s 3ms/step - loss: 4.6351 - accuracy: 0.0986\n",
      "Epoch 20/200\n",
      "69/69 [==============================] - 0s 3ms/step - loss: 4.6100 - accuracy: 0.0982\n",
      "Epoch 21/200\n",
      "69/69 [==============================] - 0s 2ms/step - loss: 4.5934 - accuracy: 0.0986\n",
      "Epoch 22/200\n",
      "69/69 [==============================] - 0s 3ms/step - loss: 4.5772 - accuracy: 0.0986\n",
      "Epoch 23/200\n",
      "69/69 [==============================] - 0s 3ms/step - loss: 4.5641 - accuracy: 0.0986\n",
      "Epoch 24/200\n",
      "69/69 [==============================] - 0s 3ms/step - loss: 4.5515 - accuracy: 0.0986\n",
      "Epoch 25/200\n",
      "69/69 [==============================] - 0s 3ms/step - loss: 4.5395 - accuracy: 0.0986\n",
      "Epoch 26/200\n",
      "69/69 [==============================] - 0s 3ms/step - loss: 4.5281 - accuracy: 0.0986\n",
      "Epoch 27/200\n",
      "69/69 [==============================] - 0s 3ms/step - loss: 4.5172 - accuracy: 0.0986\n",
      "Epoch 28/200\n",
      "69/69 [==============================] - 0s 2ms/step - loss: 4.5069 - accuracy: 0.0986\n",
      "Epoch 29/200\n",
      "69/69 [==============================] - 0s 2ms/step - loss: 4.4971 - accuracy: 0.0986\n",
      "Epoch 30/200\n",
      "69/69 [==============================] - 0s 2ms/step - loss: 4.4878 - accuracy: 0.0986\n",
      "Epoch 31/200\n",
      "69/69 [==============================] - 0s 2ms/step - loss: 4.4791 - accuracy: 0.0986\n",
      "Epoch 32/200\n",
      "69/69 [==============================] - 0s 2ms/step - loss: 4.4707 - accuracy: 0.0986\n",
      "Epoch 33/200\n",
      "69/69 [==============================] - 0s 2ms/step - loss: 4.4628 - accuracy: 0.0986\n",
      "Epoch 34/200\n",
      "69/69 [==============================] - 0s 2ms/step - loss: 4.4553 - accuracy: 0.0991\n",
      "Epoch 35/200\n",
      "69/69 [==============================] - 0s 2ms/step - loss: 4.4480 - accuracy: 0.0991\n",
      "Epoch 36/200\n",
      "69/69 [==============================] - 0s 3ms/step - loss: 4.4413 - accuracy: 0.0991\n",
      "Epoch 37/200\n",
      "69/69 [==============================] - 0s 2ms/step - loss: 4.4352 - accuracy: 0.0991\n",
      "Epoch 38/200\n",
      "69/69 [==============================] - 0s 3ms/step - loss: 4.4295 - accuracy: 0.0991\n",
      "Epoch 39/200\n",
      "69/69 [==============================] - 0s 3ms/step - loss: 4.4242 - accuracy: 0.0991\n",
      "Epoch 40/200\n",
      "69/69 [==============================] - 0s 3ms/step - loss: 4.4194 - accuracy: 0.0991\n",
      "Epoch 41/200\n",
      "69/69 [==============================] - 0s 2ms/step - loss: 4.4148 - accuracy: 0.0991\n",
      "Epoch 42/200\n",
      "69/69 [==============================] - 0s 3ms/step - loss: 4.4107 - accuracy: 0.0991\n",
      "Epoch 43/200\n",
      "69/69 [==============================] - 0s 3ms/step - loss: 4.4068 - accuracy: 0.0991\n",
      "Epoch 44/200\n",
      "69/69 [==============================] - 0s 3ms/step - loss: 4.4032 - accuracy: 0.0991\n",
      "Epoch 45/200\n",
      "69/69 [==============================] - 0s 2ms/step - loss: 4.3999 - accuracy: 0.0991\n",
      "Epoch 46/200\n",
      "69/69 [==============================] - 0s 3ms/step - loss: 4.3968 - accuracy: 0.0991\n",
      "Epoch 47/200\n",
      "69/69 [==============================] - 0s 2ms/step - loss: 4.3940 - accuracy: 0.0991\n",
      "Epoch 48/200\n",
      "69/69 [==============================] - 0s 3ms/step - loss: 4.3914 - accuracy: 0.0991\n",
      "Epoch 49/200\n",
      "69/69 [==============================] - 0s 3ms/step - loss: 4.3890 - accuracy: 0.0991\n",
      "Epoch 50/200\n",
      "69/69 [==============================] - 0s 2ms/step - loss: 4.3868 - accuracy: 0.0991\n",
      "Epoch 51/200\n",
      "69/69 [==============================] - 0s 2ms/step - loss: 4.3849 - accuracy: 0.0991\n",
      "Epoch 52/200\n",
      "69/69 [==============================] - 0s 2ms/step - loss: 4.3830 - accuracy: 0.0991\n",
      "Epoch 53/200\n",
      "69/69 [==============================] - 0s 3ms/step - loss: 4.3813 - accuracy: 0.0991\n",
      "Epoch 54/200\n",
      "69/69 [==============================] - 0s 3ms/step - loss: 4.3797 - accuracy: 0.0991\n",
      "Epoch 55/200\n",
      "69/69 [==============================] - 0s 4ms/step - loss: 4.3783 - accuracy: 0.0991\n",
      "Epoch 56/200\n",
      "69/69 [==============================] - 0s 3ms/step - loss: 4.3770 - accuracy: 0.0991\n",
      "Epoch 57/200\n",
      "69/69 [==============================] - 0s 2ms/step - loss: 4.3758 - accuracy: 0.0991\n",
      "Epoch 58/200\n",
      "69/69 [==============================] - 0s 3ms/step - loss: 4.3747 - accuracy: 0.0991\n",
      "Epoch 59/200\n",
      "69/69 [==============================] - 0s 3ms/step - loss: 4.3736 - accuracy: 0.0991\n",
      "Epoch 60/200\n",
      "69/69 [==============================] - 0s 3ms/step - loss: 4.3727 - accuracy: 0.0991\n",
      "Epoch 61/200\n",
      "69/69 [==============================] - 0s 2ms/step - loss: 4.3718 - accuracy: 0.0991\n",
      "Epoch 62/200\n",
      "69/69 [==============================] - 0s 2ms/step - loss: 4.3711 - accuracy: 0.0991\n",
      "Epoch 63/200\n",
      "69/69 [==============================] - 0s 3ms/step - loss: 4.3703 - accuracy: 0.0991\n",
      "Epoch 64/200\n",
      "69/69 [==============================] - 0s 2ms/step - loss: 4.3696 - accuracy: 0.0991\n",
      "Epoch 65/200\n",
      "69/69 [==============================] - 0s 2ms/step - loss: 4.3690 - accuracy: 0.0991\n",
      "Epoch 66/200\n",
      "69/69 [==============================] - 0s 2ms/step - loss: 4.3684 - accuracy: 0.0991\n",
      "Epoch 67/200\n",
      "69/69 [==============================] - 0s 3ms/step - loss: 4.3678 - accuracy: 0.0991\n",
      "Epoch 68/200\n",
      "69/69 [==============================] - 0s 2ms/step - loss: 4.3673 - accuracy: 0.0991\n",
      "Epoch 69/200\n",
      "69/69 [==============================] - 0s 2ms/step - loss: 4.3668 - accuracy: 0.0991\n",
      "Epoch 70/200\n",
      "69/69 [==============================] - 0s 3ms/step - loss: 4.3664 - accuracy: 0.0991\n",
      "Epoch 71/200\n",
      "69/69 [==============================] - 0s 2ms/step - loss: 4.3659 - accuracy: 0.0991\n",
      "Epoch 72/200\n",
      "69/69 [==============================] - 0s 2ms/step - loss: 4.3657 - accuracy: 0.0991\n",
      "Epoch 73/200\n",
      "69/69 [==============================] - 0s 2ms/step - loss: 4.3652 - accuracy: 0.0991\n",
      "Epoch 74/200\n",
      "69/69 [==============================] - 0s 2ms/step - loss: 4.3648 - accuracy: 0.0991\n",
      "Epoch 75/200\n",
      "69/69 [==============================] - 0s 2ms/step - loss: 4.3645 - accuracy: 0.0991\n",
      "Epoch 76/200\n",
      "69/69 [==============================] - 0s 3ms/step - loss: 4.3642 - accuracy: 0.0991\n",
      "Epoch 77/200\n",
      "69/69 [==============================] - 0s 2ms/step - loss: 4.3639 - accuracy: 0.0991\n",
      "Epoch 78/200\n",
      "69/69 [==============================] - 0s 2ms/step - loss: 4.3637 - accuracy: 0.0991\n",
      "Epoch 79/200\n",
      "69/69 [==============================] - 0s 3ms/step - loss: 4.3635 - accuracy: 0.0991\n",
      "Epoch 80/200\n",
      "69/69 [==============================] - 0s 2ms/step - loss: 4.3632 - accuracy: 0.0991\n",
      "Epoch 81/200\n",
      "69/69 [==============================] - 0s 3ms/step - loss: 4.3630 - accuracy: 0.0991\n",
      "Epoch 82/200\n",
      "69/69 [==============================] - 0s 2ms/step - loss: 4.3627 - accuracy: 0.0991\n",
      "Epoch 83/200\n",
      "69/69 [==============================] - 0s 2ms/step - loss: 4.3626 - accuracy: 0.0991\n",
      "Epoch 84/200\n",
      "69/69 [==============================] - 0s 3ms/step - loss: 4.3623 - accuracy: 0.0991\n",
      "Epoch 85/200\n",
      "69/69 [==============================] - 0s 3ms/step - loss: 4.3621 - accuracy: 0.0991\n",
      "Epoch 86/200\n",
      "69/69 [==============================] - 0s 2ms/step - loss: 4.3619 - accuracy: 0.0991\n",
      "Epoch 87/200\n",
      "69/69 [==============================] - 0s 2ms/step - loss: 4.3618 - accuracy: 0.0991\n",
      "Epoch 88/200\n",
      "69/69 [==============================] - 0s 2ms/step - loss: 4.3616 - accuracy: 0.0991\n",
      "Epoch 89/200\n",
      "69/69 [==============================] - 0s 2ms/step - loss: 4.3615 - accuracy: 0.0991\n",
      "Epoch 90/200\n",
      "69/69 [==============================] - 0s 3ms/step - loss: 4.3613 - accuracy: 0.0991\n",
      "Epoch 91/200\n",
      "69/69 [==============================] - 0s 3ms/step - loss: 4.3612 - accuracy: 0.0991\n",
      "Epoch 92/200\n",
      "69/69 [==============================] - 0s 3ms/step - loss: 4.3610 - accuracy: 0.0991\n",
      "Epoch 93/200\n",
      "69/69 [==============================] - 0s 4ms/step - loss: 4.3609 - accuracy: 0.0991\n",
      "Epoch 94/200\n",
      "69/69 [==============================] - 0s 2ms/step - loss: 4.3608 - accuracy: 0.0991\n",
      "Epoch 95/200\n",
      "69/69 [==============================] - 0s 3ms/step - loss: 4.3607 - accuracy: 0.0991\n",
      "Epoch 96/200\n",
      "69/69 [==============================] - 0s 3ms/step - loss: 4.3606 - accuracy: 0.0991\n",
      "Epoch 97/200\n",
      "69/69 [==============================] - 0s 2ms/step - loss: 4.3604 - accuracy: 0.0991\n",
      "Epoch 98/200\n",
      "69/69 [==============================] - 0s 3ms/step - loss: 4.3603 - accuracy: 0.0991\n",
      "Epoch 99/200\n",
      "69/69 [==============================] - 0s 2ms/step - loss: 4.3603 - accuracy: 0.0991\n",
      "Epoch 100/200\n",
      "69/69 [==============================] - 0s 2ms/step - loss: 4.3601 - accuracy: 0.0991\n",
      "Epoch 101/200\n",
      "69/69 [==============================] - 0s 2ms/step - loss: 4.3600 - accuracy: 0.0991\n",
      "Epoch 102/200\n",
      "69/69 [==============================] - 0s 3ms/step - loss: 4.3600 - accuracy: 0.0991\n",
      "Epoch 103/200\n",
      "69/69 [==============================] - 0s 3ms/step - loss: 4.3599 - accuracy: 0.0991\n",
      "Epoch 104/200\n",
      "69/69 [==============================] - 0s 2ms/step - loss: 4.3598 - accuracy: 0.0991\n",
      "Epoch 105/200\n",
      "69/69 [==============================] - 0s 2ms/step - loss: 4.3597 - accuracy: 0.0991\n",
      "Epoch 106/200\n",
      "69/69 [==============================] - 0s 3ms/step - loss: 4.3597 - accuracy: 0.0991\n",
      "Epoch 107/200\n",
      "69/69 [==============================] - 0s 3ms/step - loss: 4.3596 - accuracy: 0.0991\n",
      "Epoch 108/200\n",
      "69/69 [==============================] - 0s 3ms/step - loss: 4.3596 - accuracy: 0.0991\n",
      "Epoch 109/200\n",
      "69/69 [==============================] - 0s 2ms/step - loss: 4.3594 - accuracy: 0.0991\n",
      "Epoch 110/200\n",
      "69/69 [==============================] - 0s 2ms/step - loss: 4.3594 - accuracy: 0.0991\n",
      "Epoch 111/200\n",
      "69/69 [==============================] - 0s 2ms/step - loss: 4.3593 - accuracy: 0.0991\n",
      "Epoch 112/200\n",
      "69/69 [==============================] - 0s 3ms/step - loss: 4.3593 - accuracy: 0.0991\n",
      "Epoch 113/200\n",
      "69/69 [==============================] - 0s 3ms/step - loss: 4.3593 - accuracy: 0.0991\n",
      "Epoch 114/200\n",
      "69/69 [==============================] - 0s 2ms/step - loss: 4.3592 - accuracy: 0.0991\n",
      "Epoch 115/200\n",
      "69/69 [==============================] - 0s 3ms/step - loss: 4.3591 - accuracy: 0.0991\n",
      "Epoch 116/200\n",
      "69/69 [==============================] - 0s 2ms/step - loss: 4.3591 - accuracy: 0.0991\n",
      "Epoch 117/200\n",
      "69/69 [==============================] - 0s 3ms/step - loss: 4.3590 - accuracy: 0.0991\n",
      "Epoch 118/200\n",
      "69/69 [==============================] - 0s 2ms/step - loss: 4.3590 - accuracy: 0.0991\n",
      "Epoch 119/200\n",
      "69/69 [==============================] - 0s 2ms/step - loss: 4.3589 - accuracy: 0.0991\n",
      "Epoch 120/200\n",
      "69/69 [==============================] - 0s 2ms/step - loss: 4.3589 - accuracy: 0.0991\n",
      "Epoch 121/200\n",
      "69/69 [==============================] - 0s 2ms/step - loss: 4.3589 - accuracy: 0.0991\n",
      "Epoch 122/200\n",
      "69/69 [==============================] - 0s 3ms/step - loss: 4.3588 - accuracy: 0.0991\n",
      "Epoch 123/200\n",
      "69/69 [==============================] - 0s 2ms/step - loss: 4.3588 - accuracy: 0.0991\n",
      "Epoch 124/200\n",
      "69/69 [==============================] - 0s 3ms/step - loss: 4.3587 - accuracy: 0.0991\n",
      "Epoch 125/200\n",
      "69/69 [==============================] - 0s 2ms/step - loss: 4.3587 - accuracy: 0.0991\n",
      "Epoch 126/200\n",
      "69/69 [==============================] - 0s 2ms/step - loss: 4.3587 - accuracy: 0.0991\n",
      "Epoch 127/200\n",
      "69/69 [==============================] - 0s 2ms/step - loss: 4.3587 - accuracy: 0.0991\n",
      "Epoch 128/200\n",
      "69/69 [==============================] - 0s 2ms/step - loss: 4.3586 - accuracy: 0.0991\n",
      "Epoch 129/200\n",
      "69/69 [==============================] - 0s 3ms/step - loss: 4.3586 - accuracy: 0.0991\n",
      "Epoch 130/200\n",
      "69/69 [==============================] - 0s 2ms/step - loss: 4.3585 - accuracy: 0.0991\n",
      "Epoch 131/200\n",
      "69/69 [==============================] - 0s 2ms/step - loss: 4.3585 - accuracy: 0.0991\n",
      "Epoch 132/200\n",
      "69/69 [==============================] - 0s 3ms/step - loss: 4.3585 - accuracy: 0.0991\n",
      "Epoch 133/200\n",
      "69/69 [==============================] - 0s 3ms/step - loss: 4.3584 - accuracy: 0.0991\n",
      "Epoch 134/200\n",
      "69/69 [==============================] - 0s 3ms/step - loss: 4.3584 - accuracy: 0.0991\n",
      "Epoch 135/200\n",
      "69/69 [==============================] - 0s 2ms/step - loss: 4.3584 - accuracy: 0.0991\n",
      "Epoch 136/200\n",
      "69/69 [==============================] - 0s 2ms/step - loss: 4.3584 - accuracy: 0.0991\n",
      "Epoch 137/200\n",
      "69/69 [==============================] - 0s 2ms/step - loss: 4.3583 - accuracy: 0.0991\n",
      "Epoch 138/200\n",
      "69/69 [==============================] - 0s 2ms/step - loss: 4.3583 - accuracy: 0.0991\n",
      "Epoch 139/200\n",
      "69/69 [==============================] - 0s 2ms/step - loss: 4.3583 - accuracy: 0.0991\n",
      "Epoch 140/200\n",
      "69/69 [==============================] - 0s 3ms/step - loss: 4.3583 - accuracy: 0.0991\n",
      "Epoch 141/200\n",
      "69/69 [==============================] - 0s 3ms/step - loss: 4.3583 - accuracy: 0.0991\n",
      "Epoch 142/200\n",
      "69/69 [==============================] - 0s 2ms/step - loss: 4.3582 - accuracy: 0.0991\n",
      "Epoch 143/200\n",
      "69/69 [==============================] - 0s 3ms/step - loss: 4.3583 - accuracy: 0.0991\n",
      "Epoch 144/200\n",
      "69/69 [==============================] - 0s 4ms/step - loss: 4.3583 - accuracy: 0.0991\n",
      "Epoch 145/200\n",
      "69/69 [==============================] - 0s 3ms/step - loss: 4.3582 - accuracy: 0.0991\n",
      "Epoch 146/200\n",
      "69/69 [==============================] - 0s 3ms/step - loss: 4.3582 - accuracy: 0.0991\n",
      "Epoch 147/200\n",
      "69/69 [==============================] - 0s 2ms/step - loss: 4.3581 - accuracy: 0.0991\n",
      "Epoch 148/200\n",
      "69/69 [==============================] - 0s 2ms/step - loss: 4.3581 - accuracy: 0.0991\n",
      "Epoch 149/200\n",
      "69/69 [==============================] - 0s 3ms/step - loss: 4.3581 - accuracy: 0.0991\n",
      "Epoch 150/200\n",
      "69/69 [==============================] - 0s 2ms/step - loss: 4.3581 - accuracy: 0.0991\n",
      "Epoch 151/200\n",
      "69/69 [==============================] - 0s 2ms/step - loss: 4.3581 - accuracy: 0.0991\n",
      "Epoch 152/200\n",
      "69/69 [==============================] - 0s 3ms/step - loss: 4.3581 - accuracy: 0.0991\n",
      "Epoch 153/200\n",
      "69/69 [==============================] - 0s 2ms/step - loss: 4.3581 - accuracy: 0.0991\n",
      "Epoch 154/200\n",
      "69/69 [==============================] - 0s 3ms/step - loss: 4.3581 - accuracy: 0.0991\n",
      "Epoch 155/200\n",
      "69/69 [==============================] - 0s 3ms/step - loss: 4.3580 - accuracy: 0.0991\n",
      "Epoch 156/200\n",
      "69/69 [==============================] - 0s 3ms/step - loss: 4.3580 - accuracy: 0.0991\n",
      "Epoch 157/200\n",
      "69/69 [==============================] - 0s 2ms/step - loss: 4.3580 - accuracy: 0.0991\n",
      "Epoch 158/200\n",
      "69/69 [==============================] - 0s 3ms/step - loss: 4.3580 - accuracy: 0.0991\n",
      "Epoch 159/200\n",
      "69/69 [==============================] - 0s 2ms/step - loss: 4.3580 - accuracy: 0.0991\n",
      "Epoch 160/200\n",
      "69/69 [==============================] - 0s 3ms/step - loss: 4.3580 - accuracy: 0.0991\n",
      "Epoch 161/200\n",
      "69/69 [==============================] - 0s 2ms/step - loss: 4.3579 - accuracy: 0.0991\n",
      "Epoch 162/200\n",
      "69/69 [==============================] - 0s 3ms/step - loss: 4.3580 - accuracy: 0.0991\n",
      "Epoch 163/200\n",
      "69/69 [==============================] - 0s 3ms/step - loss: 4.3580 - accuracy: 0.0991\n",
      "Epoch 164/200\n",
      "69/69 [==============================] - 0s 3ms/step - loss: 4.3580 - accuracy: 0.0991\n",
      "Epoch 165/200\n",
      "69/69 [==============================] - 0s 2ms/step - loss: 4.3579 - accuracy: 0.0991\n",
      "Epoch 166/200\n",
      "69/69 [==============================] - 0s 3ms/step - loss: 4.3579 - accuracy: 0.0991\n",
      "Epoch 167/200\n",
      "69/69 [==============================] - 0s 3ms/step - loss: 4.3579 - accuracy: 0.0991\n",
      "Epoch 168/200\n",
      "69/69 [==============================] - 0s 2ms/step - loss: 4.3579 - accuracy: 0.0991\n",
      "Epoch 169/200\n",
      "69/69 [==============================] - 0s 2ms/step - loss: 4.5934 - accuracy: 0.0982\n",
      "Epoch 170/200\n",
      "69/69 [==============================] - 0s 2ms/step - loss: 4.5383 - accuracy: 0.0959\n",
      "Epoch 171/200\n",
      "69/69 [==============================] - 0s 3ms/step - loss: 4.3713 - accuracy: 0.0964\n",
      "Epoch 172/200\n",
      "69/69 [==============================] - 0s 2ms/step - loss: 4.3713 - accuracy: 0.0964\n",
      "Epoch 173/200\n",
      "69/69 [==============================] - 0s 3ms/step - loss: 4.3713 - accuracy: 0.0964\n",
      "Epoch 174/200\n",
      "69/69 [==============================] - 0s 3ms/step - loss: 4.3714 - accuracy: 0.0964\n",
      "Epoch 175/200\n",
      "69/69 [==============================] - 0s 3ms/step - loss: 4.3713 - accuracy: 0.0964\n",
      "Epoch 176/200\n",
      "69/69 [==============================] - 0s 3ms/step - loss: 4.3713 - accuracy: 0.0964\n",
      "Epoch 177/200\n",
      "69/69 [==============================] - 0s 3ms/step - loss: 4.3713 - accuracy: 0.0964\n",
      "Epoch 178/200\n",
      "69/69 [==============================] - 0s 2ms/step - loss: 4.3713 - accuracy: 0.0964\n",
      "Epoch 179/200\n",
      "69/69 [==============================] - 0s 3ms/step - loss: 4.3712 - accuracy: 0.0964\n",
      "Epoch 180/200\n",
      "69/69 [==============================] - 0s 2ms/step - loss: 4.3712 - accuracy: 0.0964\n",
      "Epoch 181/200\n",
      "69/69 [==============================] - 0s 2ms/step - loss: 4.3712 - accuracy: 0.0964\n",
      "Epoch 182/200\n",
      "69/69 [==============================] - 0s 4ms/step - loss: 4.3712 - accuracy: 0.0964\n",
      "Epoch 183/200\n",
      "69/69 [==============================] - 0s 3ms/step - loss: 4.3712 - accuracy: 0.0964\n",
      "Epoch 184/200\n",
      "69/69 [==============================] - 0s 2ms/step - loss: 4.3712 - accuracy: 0.0964\n",
      "Epoch 185/200\n",
      "69/69 [==============================] - 0s 3ms/step - loss: 4.3712 - accuracy: 0.0964\n",
      "Epoch 186/200\n",
      "69/69 [==============================] - 0s 2ms/step - loss: 4.3712 - accuracy: 0.0964\n",
      "Epoch 187/200\n",
      "69/69 [==============================] - 0s 3ms/step - loss: 4.3712 - accuracy: 0.0964\n",
      "Epoch 188/200\n",
      "69/69 [==============================] - 0s 3ms/step - loss: 4.3712 - accuracy: 0.0964\n",
      "Epoch 189/200\n",
      "69/69 [==============================] - 0s 2ms/step - loss: 4.3713 - accuracy: 0.0964\n",
      "Epoch 190/200\n",
      "69/69 [==============================] - 0s 3ms/step - loss: 4.3712 - accuracy: 0.0964\n",
      "Epoch 191/200\n",
      "69/69 [==============================] - 0s 2ms/step - loss: 4.3711 - accuracy: 0.0964\n",
      "Epoch 192/200\n",
      "69/69 [==============================] - 0s 3ms/step - loss: 4.3712 - accuracy: 0.0964\n",
      "Epoch 193/200\n",
      "69/69 [==============================] - 0s 3ms/step - loss: 4.3711 - accuracy: 0.0964\n",
      "Epoch 194/200\n",
      "69/69 [==============================] - 0s 2ms/step - loss: 4.3712 - accuracy: 0.0964\n",
      "Epoch 195/200\n",
      "69/69 [==============================] - 0s 3ms/step - loss: 4.3711 - accuracy: 0.0964\n",
      "Epoch 196/200\n",
      "69/69 [==============================] - 0s 3ms/step - loss: 4.3711 - accuracy: 0.0964\n",
      "Epoch 197/200\n",
      "69/69 [==============================] - 0s 2ms/step - loss: 4.3711 - accuracy: 0.0964\n",
      "Epoch 198/200\n",
      "69/69 [==============================] - 0s 2ms/step - loss: 4.3711 - accuracy: 0.0964\n",
      "Epoch 199/200\n",
      "69/69 [==============================] - 0s 4ms/step - loss: 4.3711 - accuracy: 0.0964\n",
      "Epoch 200/200\n",
      "69/69 [==============================] - 0s 2ms/step - loss: 4.3711 - accuracy: 0.0964\n"
     ]
    },
    {
     "data": {
      "text/plain": [
       "<keras.callbacks.History at 0x7f6f72f714e0>"
      ]
     },
     "execution_count": 294,
     "metadata": {},
     "output_type": "execute_result"
    }
   ],
   "source": [
    "snn_model = build_snn_model()\n",
    "snn_model.fit(X_train, y_train, epochs = SNN_EPOCHS)"
   ]
  },
  {
   "cell_type": "code",
   "execution_count": null,
   "metadata": {},
   "outputs": [
    {
     "name": "stdout",
     "output_type": "stream",
     "text": [
      "30/30 [==============================] - 0s 2ms/step\n"
     ]
    }
   ],
   "source": [
    "snn_prediction_v1 = snn_model.predict(X_test)"
   ]
  },
  {
   "cell_type": "code",
   "execution_count": null,
   "metadata": {},
   "outputs": [],
   "source": [
    "snn_prediction_v2 = []\n",
    "for i in range(X_test.shape[0]):\n",
    "    snn_prediction_v2.append(np.argmax(snn_prediction_v1[i]))"
   ]
  },
  {
   "cell_type": "code",
   "execution_count": null,
   "metadata": {},
   "outputs": [
    {
     "data": {
      "text/plain": [
       "[1, 1, 1, 1, 1]"
      ]
     },
     "execution_count": 257,
     "metadata": {},
     "output_type": "execute_result"
    }
   ],
   "source": [
    "snn_prediction_v2[:5]"
   ]
  },
  {
   "cell_type": "code",
   "execution_count": null,
   "metadata": {},
   "outputs": [],
   "source": [
    "snn_prediction_v3 = [ numbers_to_string[num] for num in snn_prediction_v2]"
   ]
  },
  {
   "cell_type": "code",
   "execution_count": null,
   "metadata": {},
   "outputs": [
    {
     "data": {
      "text/plain": [
       "['Biotechnology',\n",
       " 'Biotechnology',\n",
       " 'Biotechnology',\n",
       " 'Biotechnology',\n",
       " 'Biotechnology']"
      ]
     },
     "execution_count": 259,
     "metadata": {},
     "output_type": "execute_result"
    }
   ],
   "source": [
    "snn_prediction_v3[:5]"
   ]
  },
  {
   "cell_type": "code",
   "execution_count": null,
   "metadata": {},
   "outputs": [],
   "source": [
    "snn_prediction = pd.DataFrame({\n",
    "    \"Sub-Industry\" : snn_prediction_v3\n",
    "})"
   ]
  },
  {
   "cell_type": "code",
   "execution_count": null,
   "metadata": {},
   "outputs": [
    {
     "data": {
      "text/html": [
       "<div>\n",
       "<style scoped>\n",
       "    .dataframe tbody tr th:only-of-type {\n",
       "        vertical-align: middle;\n",
       "    }\n",
       "\n",
       "    .dataframe tbody tr th {\n",
       "        vertical-align: top;\n",
       "    }\n",
       "\n",
       "    .dataframe thead th {\n",
       "        text-align: right;\n",
       "    }\n",
       "</style>\n",
       "<table border=\"1\" class=\"dataframe\">\n",
       "  <thead>\n",
       "    <tr style=\"text-align: right;\">\n",
       "      <th></th>\n",
       "      <th>Sub-Industry</th>\n",
       "    </tr>\n",
       "  </thead>\n",
       "  <tbody>\n",
       "    <tr>\n",
       "      <th>0</th>\n",
       "      <td>Biotechnology</td>\n",
       "    </tr>\n",
       "    <tr>\n",
       "      <th>1</th>\n",
       "      <td>Biotechnology</td>\n",
       "    </tr>\n",
       "    <tr>\n",
       "      <th>2</th>\n",
       "      <td>Biotechnology</td>\n",
       "    </tr>\n",
       "    <tr>\n",
       "      <th>3</th>\n",
       "      <td>Biotechnology</td>\n",
       "    </tr>\n",
       "    <tr>\n",
       "      <th>4</th>\n",
       "      <td>Biotechnology</td>\n",
       "    </tr>\n",
       "    <tr>\n",
       "      <th>...</th>\n",
       "      <td>...</td>\n",
       "    </tr>\n",
       "    <tr>\n",
       "      <th>939</th>\n",
       "      <td>Biotechnology</td>\n",
       "    </tr>\n",
       "    <tr>\n",
       "      <th>940</th>\n",
       "      <td>Biotechnology</td>\n",
       "    </tr>\n",
       "    <tr>\n",
       "      <th>941</th>\n",
       "      <td>Biotechnology</td>\n",
       "    </tr>\n",
       "    <tr>\n",
       "      <th>942</th>\n",
       "      <td>Biotechnology</td>\n",
       "    </tr>\n",
       "    <tr>\n",
       "      <th>943</th>\n",
       "      <td>Biotechnology</td>\n",
       "    </tr>\n",
       "  </tbody>\n",
       "</table>\n",
       "<p>944 rows × 1 columns</p>\n",
       "</div>"
      ],
      "text/plain": [
       "      Sub-Industry\n",
       "0    Biotechnology\n",
       "1    Biotechnology\n",
       "2    Biotechnology\n",
       "3    Biotechnology\n",
       "4    Biotechnology\n",
       "..             ...\n",
       "939  Biotechnology\n",
       "940  Biotechnology\n",
       "941  Biotechnology\n",
       "942  Biotechnology\n",
       "943  Biotechnology\n",
       "\n",
       "[944 rows x 1 columns]"
      ]
     },
     "execution_count": 261,
     "metadata": {},
     "output_type": "execute_result"
    }
   ],
   "source": [
    "snn_prediction"
   ]
  },
  {
   "attachments": {},
   "cell_type": "markdown",
   "metadata": {},
   "source": [
    "### Complicated Neural Network"
   ]
  },
  {
   "cell_type": "code",
   "execution_count": 295,
   "metadata": {},
   "outputs": [],
   "source": [
    "EMBED_DIM = 150\n",
    "CNN_EPOCHS = 10"
   ]
  },
  {
   "cell_type": "code",
   "execution_count": 296,
   "metadata": {},
   "outputs": [],
   "source": [
    "def build_cnn_model():\n",
    "    model = Sequential()\n",
    "    model.add(Embedding(NUM_WORDS, EMBED_DIM, input_length = MAX_LENGTH))\n",
    "    model.add(Conv1D(16,3, activation = 'relu'))\n",
    "    model.add(MaxPooling1D(3))\n",
    "    model.add(Dropout(0.2))\n",
    "    model.add(Flatten())\n",
    "    model.add(Dense(100, activation = 'relu'))\n",
    "    model.add(Dense(number_of_classes, activation = \"softmax\"))\n",
    "    model.compile(loss = \"sparse_categorical_crossentropy\", optimizer = \"adam\", metrics = [\"accuracy\"])\n",
    "    return model"
   ]
  },
  {
   "cell_type": "code",
   "execution_count": 297,
   "metadata": {},
   "outputs": [
    {
     "name": "stdout",
     "output_type": "stream",
     "text": [
      "Epoch 1/10\n",
      "69/69 [==============================] - 6s 64ms/step - loss: 4.2807 - accuracy: 0.1495\n",
      "Epoch 2/10\n",
      "69/69 [==============================] - 4s 60ms/step - loss: 3.2475 - accuracy: 0.3145\n",
      "Epoch 3/10\n",
      "69/69 [==============================] - 4s 59ms/step - loss: 2.2783 - accuracy: 0.5468\n",
      "Epoch 4/10\n",
      "69/69 [==============================] - 4s 59ms/step - loss: 1.1853 - accuracy: 0.7732\n",
      "Epoch 5/10\n",
      "69/69 [==============================] - 4s 59ms/step - loss: 0.4641 - accuracy: 0.9232\n",
      "Epoch 6/10\n",
      "69/69 [==============================] - 4s 59ms/step - loss: 0.1559 - accuracy: 0.9855\n",
      "Epoch 7/10\n",
      "69/69 [==============================] - 4s 60ms/step - loss: 0.0565 - accuracy: 0.9950\n",
      "Epoch 8/10\n",
      "69/69 [==============================] - 4s 60ms/step - loss: 0.0213 - accuracy: 0.9991\n",
      "Epoch 9/10\n",
      "69/69 [==============================] - 4s 59ms/step - loss: 0.0118 - accuracy: 1.0000\n",
      "Epoch 10/10\n",
      "69/69 [==============================] - 4s 62ms/step - loss: 0.0075 - accuracy: 1.0000\n"
     ]
    },
    {
     "data": {
      "text/plain": [
       "<keras.callbacks.History at 0x7f6f72f7ebc0>"
      ]
     },
     "execution_count": 297,
     "metadata": {},
     "output_type": "execute_result"
    }
   ],
   "source": [
    "cnn_model = build_cnn_model()\n",
    "cnn_model.fit(X_train, y_train, epochs = CNN_EPOCHS)"
   ]
  },
  {
   "cell_type": "code",
   "execution_count": 298,
   "metadata": {},
   "outputs": [
    {
     "name": "stdout",
     "output_type": "stream",
     "text": [
      "30/30 [==============================] - 0s 6ms/step\n"
     ]
    }
   ],
   "source": [
    "cnn_prediction_v1 = cnn_model.predict(X_test)"
   ]
  },
  {
   "cell_type": "code",
   "execution_count": 299,
   "metadata": {},
   "outputs": [],
   "source": [
    "cnn_prediction_v2 = []\n",
    "for i in range(X_test.shape[0]):\n",
    "    cnn_prediction_v2.append(np.argmax(cnn_prediction_v1[i]))"
   ]
  },
  {
   "cell_type": "code",
   "execution_count": 300,
   "metadata": {},
   "outputs": [
    {
     "data": {
      "text/plain": [
       "[44, 12, 59, 21, 63]"
      ]
     },
     "execution_count": 300,
     "metadata": {},
     "output_type": "execute_result"
    }
   ],
   "source": [
    "cnn_prediction_v2[:5]"
   ]
  },
  {
   "cell_type": "code",
   "execution_count": 301,
   "metadata": {},
   "outputs": [],
   "source": [
    "cnn_prediction_v3 = [ numbers_to_string[num] for num in cnn_prediction_v2]"
   ]
  },
  {
   "cell_type": "code",
   "execution_count": 302,
   "metadata": {},
   "outputs": [
    {
     "data": {
      "text/plain": [
       "['Electrical Components & Equipment',\n",
       " 'Health Care Equipment',\n",
       " 'Environmental & Facilities Services',\n",
       " 'Property & Casualty Insurance',\n",
       " 'Aerospace & Defense']"
      ]
     },
     "execution_count": 302,
     "metadata": {},
     "output_type": "execute_result"
    }
   ],
   "source": [
    "cnn_prediction_v3[:5]"
   ]
  },
  {
   "cell_type": "code",
   "execution_count": 304,
   "metadata": {},
   "outputs": [
    {
     "data": {
      "text/plain": [
       "'PREFORMED LINE PRODUCTS CO Industrials Capital Goods Electrical Equipment Preformed Line Products Company, together with its subsidiaries, is a designer and manufacturer of products and systems employed in the construction and maintenance of overhead, ground-mounted and underground networks for the energy, telecommunication, cable operators, information (data communication), and other similar industries. The Company’s products include Energy Products, which are used to support, protect, terminate and secure both power conductor and fiber communication cables and to control cable dynamics; Communications Products, including protective closures, which are used to protect fixed line communication networks, such as fiber optic cable or copper cable, from moisture, environmental hazards and other potential contaminants, and Special Industries Products, including hardware assemblies, pole line hardware, resale products, underground connectors, solar hardware systems, guy markers, tree guards, fiber optic cable markers, pedestal markers and urethane products. Companies that produce electric cables and wires, electrical components or equipment not classified in the Heavy Electrical Equipment Sub-Industry.'"
      ]
     },
     "execution_count": 304,
     "metadata": {},
     "output_type": "execute_result"
    }
   ],
   "source": [
    "X_test_v1[:5][0]"
   ]
  },
  {
   "cell_type": "code",
   "execution_count": 305,
   "metadata": {},
   "outputs": [
    {
     "data": {
      "text/plain": [
       "'VAPOTHERM INC Health Care Health Care Equipment & Services Health Care Equipment & Supplies Vapotherm, Inc. is a global medical technology company. The Company is focused on the care of patients of all ages suffering from the respiratory distress often associated with complex lung diseases, such as chronic obstructive pulmonary disease (COPD), congestive heart failure (CHF), pneumonia, asthma and COVID-19. Its device solutions are focused on high velocity nasal insufflation (HVNI), which delivers non-invasive ventilatory support to patients suffering from respiratory distress. Its HVNI technology delivers heated, humidified and oxygenated air at a high velocity through a small-bore nasal interface. It offers four versions of its Precision Flow systems, which includes Precision Flow Hi-VNI, Precision Flow Plus, Precision Flow Classic and Precision Flow Heliox. Its Precision Flow systems include a capital unit, a single-use disposable and a nasal interface. Its digital solutions are focused on at home patient monitoring. The Company also provides various clinical solutions. Manufacturers of health care equipment and devices. Includes medical instruments, drug delivery systems, cardiovascular & orthopedic devices, and diagnostic equipment.'"
      ]
     },
     "execution_count": 305,
     "metadata": {},
     "output_type": "execute_result"
    }
   ],
   "source": [
    "X_test_v1[:5][1]"
   ]
  },
  {
   "cell_type": "code",
   "execution_count": 306,
   "metadata": {},
   "outputs": [
    {
     "data": {
      "text/plain": [
       "\"SIX FLAGS ENTERTAINMENT CORP Consumer Discretionary Consumer Services Hotels, Restaurants & Leisure Six Flags Entertainment Corporation is a regional theme park operator. The Company owns and operates approximately 27 regional theme and water parks. Its parks occupy approximately 6,000 acres of land and is located in geographically diverse markets across North America. Its parks offer a selection of thrill rides, water attractions, themed areas, concerts and shows, restaurants, game venues and retail outlets. Its parks contain approximately 900 rides, including over 140 roller coasters. It offers food, beverages, merchandise and other products and services within its parks. The Company's parks include Six Flags America, Six Flags Discovery Kingdom, Six Flags Fiesta Texas, Six Flags Great Adventure & Safari/ Six Flags Hurricane Harbor, Six Flags Great America, Six Flags Hurricane Harbor, Six Flags Magic Mountain, Six Flags Mexico, Six Flags New England, Six Flags St. Louis, Six Flags White Water Atlanta, The Great Escape and Lodge, Six Flags Darien Lake and Frontier City. Owners and operators of leisure facilities, including sport and fitness centers, stadiums, golf courses and amusement parks not classified in the Movies & Entertainment Sub-Industry.\""
      ]
     },
     "execution_count": 306,
     "metadata": {},
     "output_type": "execute_result"
    }
   ],
   "source": [
    "X_test_v1[:5][2]"
   ]
  },
  {
   "cell_type": "code",
   "execution_count": 307,
   "metadata": {},
   "outputs": [
    {
     "data": {
      "text/plain": [
       "\"COMSTOCK MINING INC Materials Materials Metals & Mining Comstock Inc., formerly Comstock Mining Inc., is engaged in developing technologies that enable systemic decarbonization and circularity by converting supplies of waste and other under-utilized natural resources into renewable fuels and electrification products that contribute to balancing global uses and emissions of carbon. The Company offers electrification (LiNiCo) and cellulosic fuels (Bioleum) products. It converts wasted and unused biomass feedstock into cellulosic ethanol and drop-in fuels. The Company's technologies are designed to crush, separate, and condition every class of lithium-ion battery feedstock together with their host devices and other electrification materials for client flexibility. Producers of gold and related products, including companies that mine or process gold and the South African finance houses which primarily invest in, but do not operate, gold mines.\""
      ]
     },
     "execution_count": 307,
     "metadata": {},
     "output_type": "execute_result"
    }
   ],
   "source": [
    "X_test_v1[:5][3]"
   ]
  },
  {
   "cell_type": "code",
   "execution_count": 308,
   "metadata": {},
   "outputs": [
    {
     "data": {
      "text/plain": [
       "'MAXAR TECHNOLOGIES INC Industrials Capital Goods Aerospace & Defense Maxar Technologies, Inc. is a space technology company that is specializing in manufacturing communication, earth observation, radar, and on-orbit servicing satellites, satellite products, and related services. It delivers disruptive value to government and commercial customers to help them monitor, understand, and navigate changing planet, deliver global broadband communications, and explore and advance the use of space. Its segments include Earth Intelligence and Space Infrastructure. The Earth Intelligence segment is a supplier of high-resolution space-based optical and radar imagery products and analytics. The Space Infrastructure segment is a provider of Space Infrastructure that designs, builds, integrates, and tests solutions for space-based communication satellites, on-orbit servicing, robotic assembly, and space exploration. It also provides geospatial services that combine imagery, analytic expertise, and technology to deliver intelligence solutions to customers. Manufacturers of civil or military aerospace and defense equipment, parts or products. Includes defense electronics and space equipment.'"
      ]
     },
     "execution_count": 308,
     "metadata": {},
     "output_type": "execute_result"
    }
   ],
   "source": [
    "X_test_v1[:5][4]"
   ]
  },
  {
   "cell_type": "code",
   "execution_count": null,
   "metadata": {},
   "outputs": [],
   "source": [
    "cnn_prediction = pd.DataFrame({\n",
    "    \"Sub-Industry\" : cnn_prediction_v3\n",
    "})"
   ]
  },
  {
   "cell_type": "code",
   "execution_count": null,
   "metadata": {},
   "outputs": [
    {
     "data": {
      "text/html": [
       "<div>\n",
       "<style scoped>\n",
       "    .dataframe tbody tr th:only-of-type {\n",
       "        vertical-align: middle;\n",
       "    }\n",
       "\n",
       "    .dataframe tbody tr th {\n",
       "        vertical-align: top;\n",
       "    }\n",
       "\n",
       "    .dataframe thead th {\n",
       "        text-align: right;\n",
       "    }\n",
       "</style>\n",
       "<table border=\"1\" class=\"dataframe\">\n",
       "  <thead>\n",
       "    <tr style=\"text-align: right;\">\n",
       "      <th></th>\n",
       "      <th>Sub-Industry</th>\n",
       "    </tr>\n",
       "  </thead>\n",
       "  <tbody>\n",
       "    <tr>\n",
       "      <th>0</th>\n",
       "      <td>Health Care Equipment</td>\n",
       "    </tr>\n",
       "    <tr>\n",
       "      <th>1</th>\n",
       "      <td>Health Care Equipment</td>\n",
       "    </tr>\n",
       "    <tr>\n",
       "      <th>2</th>\n",
       "      <td>Asset Management &amp; Custody Banks</td>\n",
       "    </tr>\n",
       "    <tr>\n",
       "      <th>3</th>\n",
       "      <td>Health Care Equipment</td>\n",
       "    </tr>\n",
       "    <tr>\n",
       "      <th>4</th>\n",
       "      <td>Health Care Equipment</td>\n",
       "    </tr>\n",
       "    <tr>\n",
       "      <th>...</th>\n",
       "      <td>...</td>\n",
       "    </tr>\n",
       "    <tr>\n",
       "      <th>939</th>\n",
       "      <td>Health Care Equipment</td>\n",
       "    </tr>\n",
       "    <tr>\n",
       "      <th>940</th>\n",
       "      <td>Health Care Equipment</td>\n",
       "    </tr>\n",
       "    <tr>\n",
       "      <th>941</th>\n",
       "      <td>Regional Banks</td>\n",
       "    </tr>\n",
       "    <tr>\n",
       "      <th>942</th>\n",
       "      <td>Health Care Equipment</td>\n",
       "    </tr>\n",
       "    <tr>\n",
       "      <th>943</th>\n",
       "      <td>Asset Management &amp; Custody Banks</td>\n",
       "    </tr>\n",
       "  </tbody>\n",
       "</table>\n",
       "<p>944 rows × 1 columns</p>\n",
       "</div>"
      ],
      "text/plain": [
       "                         Sub-Industry\n",
       "0               Health Care Equipment\n",
       "1               Health Care Equipment\n",
       "2    Asset Management & Custody Banks\n",
       "3               Health Care Equipment\n",
       "4               Health Care Equipment\n",
       "..                                ...\n",
       "939             Health Care Equipment\n",
       "940             Health Care Equipment\n",
       "941                    Regional Banks\n",
       "942             Health Care Equipment\n",
       "943  Asset Management & Custody Banks\n",
       "\n",
       "[944 rows x 1 columns]"
      ]
     },
     "execution_count": 230,
     "metadata": {},
     "output_type": "execute_result"
    }
   ],
   "source": [
    "cnn_prediction"
   ]
  }
 ],
 "metadata": {
  "kernelspec": {
   "display_name": "Python 3",
   "language": "python",
   "name": "python3"
  },
  "language_info": {
   "codemirror_mode": {
    "name": "ipython",
    "version": 3
   },
   "file_extension": ".py",
   "mimetype": "text/x-python",
   "name": "python",
   "nbconvert_exporter": "python",
   "pygments_lexer": "ipython3",
   "version": "3.10.6"
  },
  "orig_nbformat": 4,
  "vscode": {
   "interpreter": {
    "hash": "916dbcbb3f70747c44a77c7bcd40155683ae19c65e1c03b4aa3499c5328201f1"
   }
  }
 },
 "nbformat": 4,
 "nbformat_minor": 2
}
